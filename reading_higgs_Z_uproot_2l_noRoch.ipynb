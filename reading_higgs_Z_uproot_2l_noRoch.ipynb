{
 "cells": [
  {
   "cell_type": "code",
   "execution_count": 1,
   "id": "1ff9e6b2",
   "metadata": {},
   "outputs": [
    {
     "name": "stdout",
     "output_type": "stream",
     "text": [
      "Welcome to JupyROOT 6.30/04\n"
     ]
    }
   ],
   "source": [
    "import uproot\n",
    "import numpy as np\n",
    "import matplotlib.pyplot as plt\n",
    "import ROOT"
   ]
  },
  {
   "cell_type": "code",
   "execution_count": 2,
   "id": "94225185",
   "metadata": {},
   "outputs": [],
   "source": [
    "eta_flag=\"eta_greater_1\"\n",
    "#eta_flag=\"eta_lesser_1\"\n",
    "#eta_flag=\"eta_inclusive\"\n",
    "\n",
    "#flag = \"Roch_corr\"\n",
    "#flag_str = \"with Roch corr\"\n",
    "\n",
    "flag = \"noRoch_corr\"\n",
    "flag_str = \"without Roch corr\""
   ]
  },
  {
   "cell_type": "code",
   "execution_count": 3,
   "id": "2d4fccb3",
   "metadata": {},
   "outputs": [],
   "source": [
    "input_path_1 = \"/eos/home-n/nrawal/HZZ_Run3/HZZ_20UL18/simmed_files/skimmed_final/\"\n",
    "input_path_2 = \"/eos/user/c/caruta/HZZ_SkimmedNtuples/\"\n",
    "Z_file = input_path_2+\"DYJetsToLL_M-50_amcatnloFXFX_2018_skimmed_Roch-noRoch_merged_new.root\"\n",
    "if(flag==\"Roch_corr\"):\n",
    "    Higgs_file = input_path_1+ \"GluGlu_VBF_HToZZTo4L_M125_RunIISummer20UL18MiniAODv2_Roch.root\"\n",
    "    output_path_dir = f\"output_plots_2l_Roch/{eta_flag}/\"\n",
    "    output_file_path = f\"histogram_ratio_Z_2l_{eta_flag}_Roch.root\"    \n",
    "elif(flag==\"noRoch_corr\") :\n",
    "    Higgs_file = input_path_1+ \"GluGlu_VBF_HToZZTo4L_M125_RunIISummer20UL18MiniAODv2_noRoch.root\"\n",
    "    output_path_dir = f\"output_plots_2l_noRoch/{eta_flag}/\"\n",
    "    output_file_path = f\"histogram_ratio_Z_2l_{eta_flag}_noRoch.root\"  \n"
   ]
  },
  {
   "cell_type": "code",
   "execution_count": 4,
   "id": "6d3fb6b1",
   "metadata": {},
   "outputs": [],
   "source": [
    "def read_root_file(file_path, branches):\n",
    "    with uproot.open(file_path) as file:\n",
    "        tree = file[\"passedEvents\"]\n",
    "        data = tree.arrays(branches, library=\"np\")\n",
    "    return data"
   ]
  },
  {
   "cell_type": "code",
   "execution_count": 5,
   "id": "1aac19f5",
   "metadata": {},
   "outputs": [],
   "source": [
    "def read_root_file_2(file_path, branches):\n",
    "    with uproot.open(file_path) as file:\n",
    "        tree = file[\"passedEvents\"]\n",
    "        data = tree.arrays(branches, library=\"np\", entry_start = 1 , entry_stop = 500000)\n",
    "        #data = tree.arrays(branches, library=\"np\")\n",
    "    return data"
   ]
  },
  {
   "cell_type": "code",
   "execution_count": 6,
   "id": "c93a43ac",
   "metadata": {},
   "outputs": [],
   "source": [
    "def apply_mass_cut_H_4l(data):\n",
    "    mask = (data[\"pT1\"] > 5 ) & (data[\"pT2\"] > 5 ) & (data[\"pT3\"] > 5 ) & (data[\"pT4\"] > 5) & (abs(data[\"eta1\"]) < 2.4) & (abs(data[\"eta2\"]) < 2.4) & (abs(data[\"eta3\"]) < 2.4) & (abs(data[\"eta4\"]) < 2.4)  \n",
    "    return {key: val[mask] for key, val in data.items()}"
   ]
  },
  {
   "cell_type": "code",
   "execution_count": 7,
   "id": "640290d0",
   "metadata": {},
   "outputs": [],
   "source": [
    "def apply_mass_cut_Z_2l(data, mass_var, mass_range):\n",
    "    mask1 = (data[\"pT1\"] > 5 ) & (data[\"pT2\"] > 5 )  & (abs(data[\"eta1\"]) < 2.4) & (abs(data[\"eta2\"]) < 2.4) \n",
    "    mask2 = (data[mass_var] >= mass_range[0]) & (data[mass_var] <= mass_range[1])\n",
    "    mask = mask1 & mask2\n",
    "    return {key: val[mask] for key, val in data.items()}"
   ]
  },
  {
   "cell_type": "code",
   "execution_count": 8,
   "id": "b9986122",
   "metadata": {},
   "outputs": [],
   "source": [
    "def create_histogram(data, bins, range):\n",
    "    histogram, bin_edges = np.histogram(data, bins=bins, range=range)\n",
    "    return histogram, bin_edges"
   ]
  },
  {
   "cell_type": "code",
   "execution_count": 9,
   "id": "c823ecac",
   "metadata": {},
   "outputs": [],
   "source": [
    "def plot_histogram(histogram, bin_edges, output_path):\n",
    "    plt.figure(figsize=(10,10))\n",
    "    plt.hist(bin_edges[:-1], bin_edges, weights=histogram)\n",
    "    #plt.title(title)\n",
    "    plt.savefig(output_path_dir+output_path)\n",
    "    plt.close()"
   ]
  },
  {
   "cell_type": "code",
   "execution_count": 10,
   "id": "1552ac06",
   "metadata": {},
   "outputs": [],
   "source": [
    "def normalize_histogram(histogram, bin_edges):\n",
    "    bin_widths = np.diff(bin_edges)\n",
    "    total_area = np.sum(histogram * bin_widths)\n",
    "    normalized_histogram = histogram / total_area\n",
    "    return normalized_histogram\n",
    "\n",
    "def plot_normalized_histograms(hist1, bin_edges1, hist2, bin_edges2, title, xlabel, ylabel, output_path):\n",
    "\n",
    "    normalized_hist1 = normalize_histogram(hist1, bin_edges1)\n",
    "    normalized_hist2 = normalize_histogram(hist2, bin_edges2)\n",
    "\n",
    "    bin_centers1 = (bin_edges1[:-1] + bin_edges1[1:]) / 2\n",
    "    bin_centers2 = (bin_edges2[:-1] + bin_edges2[1:]) / 2\n",
    "\n",
    "    plt.figure()\n",
    "    plt.plot(bin_centers1, normalized_hist1, label=\"Histogram 1\", linestyle='-', marker='o')\n",
    "    plt.plot(bin_centers2, normalized_hist2, label=\"Histogram 2\", linestyle='-', marker='x')\n",
    "\n",
    "    plt.title(title)\n",
    "    plt.xlabel(xlabel)\n",
    "    plt.ylabel(ylabel)\n",
    "    plt.legend()\n",
    "    plt.savefig(output_path_dir+output_path)\n",
    "    plt.close()\n",
    "    \n",
    "   "
   ]
  },
  {
   "cell_type": "code",
   "execution_count": 11,
   "id": "c1557cd0",
   "metadata": {},
   "outputs": [],
   "source": [
    "def numpy_to_th1d(histogram, bin_edges, name=\"hist\", title=\"name\"):\n",
    "    th1d = ROOT.TH1D(name, title, len(bin_edges) - 1, bin_edges)\n",
    "    for i in range(len(histogram)):\n",
    "        th1d.SetBinContent(i + 1, histogram[i])\n",
    "    return th1d"
   ]
  },
  {
   "cell_type": "code",
   "execution_count": 12,
   "id": "dfc77a7e",
   "metadata": {},
   "outputs": [],
   "source": [
    "def plot_th1d_hist(hist1, hist2, title, output_path):\n",
    "    hist1.Scale(1./hist1.Integral());\n",
    "    hist2.Scale(1./hist2.Integral());\n",
    "    c = ROOT.TCanvas()\n",
    "    c.cd()\n",
    "    c.SetTitle(title)\n",
    "    hist1.Draw()\n",
    "    hist1.SetLineColor(2)\n",
    "    hist1.SetTitle(title)\n",
    "    hist1.GetYaxis().SetTitle(\"Normalised Entries\")\n",
    "    hist2.SetLineColor(4)\n",
    "    hist2.Draw(\"same\")\n",
    "\n",
    "    # Add a legend\n",
    "    legend = ROOT.TLegend(0.75, 0.75, 0.9, 0.9)\n",
    "    legend.AddEntry(hist1, \"Higgs\", \"l\")\n",
    "    legend.AddEntry(hist2, \"Z\", \"l\")\n",
    "    legend.Draw()\n",
    "\n",
    "    # Draw the stat boxes for both histograms\n",
    "    ROOT.gStyle.SetOptStat(111112211)\n",
    "    hist1.SetStats(1)\n",
    "    hist2.SetStats(1)\n",
    "\n",
    "    # Adjust the positions of the stat boxes\n",
    "    stat1 = hist1.GetListOfFunctions().FindObject(\"stats\")\n",
    "    stat1.SetX1NDC(0.11)\n",
    "    stat1.SetX2NDC(0.35)\n",
    "    stat1.SetY1NDC(0.75)\n",
    "    stat1.SetY2NDC(0.9)\n",
    "\n",
    "    stat2 = hist2.GetListOfFunctions().FindObject(\"stats\")\n",
    "    stat2.SetX1NDC(0.11)\n",
    "    stat2.SetX2NDC(0.35)\n",
    "    stat2.SetY1NDC(0.6)\n",
    "    stat2.SetY2NDC(0.75)\n",
    "\n",
    "    c.Update()\n",
    "    c.SaveAs(output_path_dir+output_path)\n",
    "#def plot_hist_root_style(hist, title, xlabel, ylabel, output_path):\n",
    "def plot_hist_root_style(hist, output_path):\n",
    "    c = ROOT.TCanvas()\n",
    "    c.cd()\n",
    "    ROOT.gStyle.SetOptStat(111112211)\n",
    "    hist.Draw()\n",
    "    #hist.SetTitle(title)\n",
    "    #hist.GetXaxis().SetTitle(xlabel)\n",
    "    #hist.GetYaxis().SetTitle(ylabel)\n",
    "    #hist.SetLineColor(2)\n",
    "    c.SaveAs(output_path_dir+output_path)\n",
    "    \n",
    "def  plot_normalised_hist_root_style(hist, output_path):\n",
    "    c = ROOT.TCanvas()\n",
    "    c.cd()\n",
    "    ROOT.gStyle.SetOptStat(111112211)\n",
    "    hist.Scale(1./hist.Integral())\n",
    "    hist.GetYaxis().SetTitle(\"Normalised Entries\")\n",
    "    hist.Draw()\n",
    "    #hist.SetLineColor(2)\n",
    "    c.SaveAs(output_path_dir+output_path)"
   ]
  },
  {
   "cell_type": "code",
   "execution_count": 13,
   "id": "ad42b914",
   "metadata": {},
   "outputs": [],
   "source": [
    "def reconstruct_m4l(pT1, pT2, pT3, pT4, eta1, eta2, eta3, eta4, phi1, phi2, phi3, phi4):\n",
    "    mass_mu = 0.105658\n",
    "    v1 = ROOT.TLorentzVector()\n",
    "    v2 = ROOT.TLorentzVector()\n",
    "    v3 = ROOT.TLorentzVector()\n",
    "    v4 = ROOT.TLorentzVector()\n",
    "    v1.SetPtEtaPhiM(pT1, eta1, phi1, mass_mu)\n",
    "    v2.SetPtEtaPhiM(pT2, eta2, phi2, mass_mu)\n",
    "    v3.SetPtEtaPhiM(pT3, eta3, phi3, mass_mu)\n",
    "    v4.SetPtEtaPhiM(pT4, eta4, phi4, mass_mu)\n",
    "    higgs = v1 + v2 + v3 + v4\n",
    "    return higgs.M()"
   ]
  },
  {
   "cell_type": "code",
   "execution_count": 14,
   "id": "a0084de0",
   "metadata": {},
   "outputs": [],
   "source": [
    "def reconstruct_m2l(pT1_noRoch, pT2_noRoch, eta1_noRoch, eta2_noRoch, phi1_noRoch, phi2_noRoch):\n",
    "    mass_mu = 0.105658\n",
    "    z_mass = ROOT.TLorentzVector()\n",
    "    v1 = ROOT.TLorentzVector()\n",
    "    v2 = ROOT.TLorentzVector()\n",
    "\n",
    "    v1.SetPtEtaPhiM(pT1_noRoch, eta1_noRoch, phi1_noRoch, mass_mu)\n",
    "    v2.SetPtEtaPhiM(pT2_noRoch, eta2_noRoch, phi2_noRoch, mass_mu)\n",
    "\n",
    "    #print(\" v1 \", v1.pT())\n",
    "    z_mass = v1 + v2\n",
    "    return z_mass.M()"
   ]
  },
  {
   "cell_type": "code",
   "execution_count": 15,
   "id": "9f4df4ee",
   "metadata": {},
   "outputs": [],
   "source": [
    "def scale_pt_and_recalculate_mass_2l_noRoch(data, scale_factor):\n",
    "    \"\"\"\n",
    "    Scale the pT values for muons with eta in the range [1.85, 2.4] and recalculate massH.\n",
    "    \"\"\"\n",
    "    scaled_massZ = []\n",
    "    for i in range(len(data[\"pT1_noRoch\"])):\n",
    "        pT1, pT2 = data[\"pT1_noRoch\"][i], data[\"pT2_noRoch\"][i]\n",
    "        eta1, eta2 = data[\"eta1_noRoch\"][i], data[\"eta2_noRoch\"][i]\n",
    "        phi1, phi2 = data[\"phi1_noRoch\"][i], data[\"phi2_noRoch\"][i]\n",
    "        \n",
    "        if(eta_flag==\"eta_greater_1\"):\n",
    "            #print(\" running eta greater 1\")\n",
    "            if 1 <= abs(eta1):\n",
    "                pT1 *= (1 + scale_factor)         \n",
    "            if 1 <= abs(eta2):\n",
    "                pT2 *= (1 + scale_factor)\n",
    "        elif(eta_flag==\"eta_lesser_1\"):\n",
    "            #print(\" running eta lesser 1\")\n",
    "            if abs(eta1) <=1:\n",
    "                pT1 *= (1 + scale_factor)         \n",
    "            if abs(eta2) <=1:\n",
    "                pT2 *= (1 + scale_factor)\n",
    "        elif (eta_flag==\"eta_inclusive\"):\n",
    "            #print(\" running eta inclusive\")\n",
    "            pT1 *= (1 + scale_factor)\n",
    "            pT2 *= (1 + scale_factor)\n",
    "        mass = reconstruct_m2l(pT1, pT2,  eta1, eta2,phi1, phi2)\n",
    "        #print(\" mass: \", mass)\n",
    "        scaled_massZ.append(mass)\n",
    "    scale_return = np.array(scaled_massZ)\n",
    "    return scale_return"
   ]
  },
  {
   "cell_type": "code",
   "execution_count": 16,
   "id": "b721362b",
   "metadata": {},
   "outputs": [],
   "source": [
    "def scale_pt_and_recalculate_mass_2l_Roch(data, scale_factor):\n",
    "    \"\"\"\n",
    "    Scale the pT values for muons with eta in the range [1.85, 2.4] and recalculate massH.\n",
    "    \"\"\"\n",
    "    scaled_massZ = []\n",
    "    for i in range(len(data[\"pT1\"])):\n",
    "        pT1, pT2 = data[\"pT1\"][i], data[\"pT2\"][i]\n",
    "        eta1, eta2 = data[\"eta1\"][i], data[\"eta2\"][i]\n",
    "        phi1, phi2 = data[\"phi1\"][i], data[\"phi2\"][i]\n",
    "        \n",
    "        if(eta_flag==\"eta_greater_1\"):\n",
    "            #print(\" running eta greater 1\")\n",
    "            if 1 <= abs(eta1):\n",
    "                pT1 *= (1 + scale_factor)         \n",
    "            if 1 <= abs(eta2):\n",
    "                pT2 *= (1 + scale_factor)\n",
    "        elif(eta_flag==\"eta_lesser_1\"):\n",
    "            #print(\" running eta lesser 1\")\n",
    "            if abs(eta1) <=1:\n",
    "                pT1 *= (1 + scale_factor)         \n",
    "            if abs(eta2) <=1:\n",
    "                pT2 *= (1 + scale_factor)\n",
    "        elif (eta_flag==\"eta_inclusive\"):\n",
    "            #print(\" running eta inclusive\")\n",
    "            pT1 *= (1 + scale_factor)\n",
    "            pT2 *= (1 + scale_factor)\n",
    "        mass = reconstruct_m2l(pT1, pT2,  eta1, eta2,phi1, phi2)\n",
    "        #print(\" mass: \", mass)\n",
    "        scaled_massZ.append(mass)\n",
    "    scale_return = np.array(scaled_massZ)\n",
    "    return scale_return"
   ]
  },
  {
   "cell_type": "code",
   "execution_count": 17,
   "id": "3f14b8b4",
   "metadata": {},
   "outputs": [],
   "source": [
    "def scale_pt_and_recalculate_mass_4l(data, scale_factor):\n",
    "    \"\"\"\n",
    "    Scale the pT values for muons with eta in the range [1.85, 2.4] and recalculate massH.\n",
    "    \"\"\"\n",
    "    scaled_massZ = []\n",
    "    for i in range(len(data[\"pT1\"])):\n",
    "        pT1, pT2 , pT3, pT4= data[\"pT1\"][i], data[\"pT2\"][i], data[\"pT3\"][i], data[\"pT4\"][i]\n",
    "        eta1, eta2 ,eta3, eta4= data[\"eta1\"][i], data[\"eta2\"][i], data[\"eta3\"][i], data[\"eta4\"][i]\n",
    "        phi1, phi2, phi3, phi4 = data[\"phi1\"][i], data[\"phi2\"][i], data[\"phi3\"][i], data[\"phi4\"][i]\n",
    "        \n",
    "        if(eta_flag==\"eta_greater_1\"):\n",
    "            #print(\" running eta greater 1\")\n",
    "            if 1 <= abs(eta1):\n",
    "                pT1 *= (1 + scale_factor)         \n",
    "            if 1 <= abs(eta2):\n",
    "                pT2 *= (1 + scale_factor)\n",
    "            if 1 <= abs(eta3):\n",
    "                pT3 *= (1 + scale_factor)         \n",
    "            if 1 <= abs(eta4):\n",
    "                pT4 *= (1 + scale_factor)\n",
    "        elif(eta_flag==\"eta_lesser_1\"):\n",
    "\n",
    "            if abs(eta1) <=1:\n",
    "                pT1 *= (1 + scale_factor)         \n",
    "            if abs(eta2) <=1:\n",
    "                pT2 *= (1 + scale_factor)\n",
    "            if abs(eta3) <=1:\n",
    "                pT3 *= (1 + scale_factor)         \n",
    "            if abs(eta4) <=1:\n",
    "                pT4 *= (1 + scale_factor)\n",
    "        elif (eta_flag==\"eta_inclusive\"):\n",
    "\n",
    "            pT1 *= (1 + scale_factor)\n",
    "            pT2 *= (1 + scale_factor)\n",
    "            pT3 *= (1 + scale_factor)\n",
    "            pT4 *= (1 + scale_factor)\n",
    "        mass = reconstruct_m4l(pT1, pT2,  pT3, pT4, eta1, eta2, eta3, eta4, phi1, phi2, phi3, phi4)\n",
    "        #print(\" mass: \", mass)\n",
    "        scaled_massZ.append(mass)\n",
    "    scale_return = np.array(scaled_massZ)\n",
    "    return scale_return"
   ]
  },
  {
   "cell_type": "code",
   "execution_count": 18,
   "id": "86a65865",
   "metadata": {},
   "outputs": [],
   "source": [
    "output_file = ROOT.TFile.Open(output_file_path, \"RECREATE\")\n",
    "output_file.cd()\n",
    "file1_path = Higgs_file\n",
    "file2_path = Z_file\n",
    "branches1 = [\"pT1\", \"pT2\", \"pT3\", \"pT4\", \"eta1\", \"eta2\", \"eta3\", \"eta4\", \"phi1\", \"phi2\", \"phi3\", \"phi4\", \"massH\", \"GENmass4l\", \"pT1_genFromReco\", \"pT2_genFromReco\",\"pT3_genFromReco\",\"pT4_genFromReco\",\n",
    "            \"genLep_eta1\", \"genLep_eta2\", \"genLep_eta3\", \"genLep_eta4\",\n",
    "            \"genLep_phi1\", \"genLep_phi2\", \"genLep_phi3\", \"genLep_phi4\", \"massH\"]\n",
    "branches2 = [\"pT1\", \"pT2\", \"eta1\", \"eta2\", \"phi1\" , \"phi2\", \"pT1_noRoch\", \"pT2_noRoch\", \"eta1_noRoch\", \"eta2_noRoch\", \"phi1_noRoch\", \"phi2_noRoch\", \"massZ\",\"massZ_noRoch\", \"GENmass2l\", \"genzm\"]\n",
    "data1 = read_root_file(file1_path, branches1)\n",
    "data2 = read_root_file_2(file2_path, branches2)"
   ]
  },
  {
   "cell_type": "code",
   "execution_count": 19,
   "id": "7b291063",
   "metadata": {},
   "outputs": [],
   "source": [
    "bins_normal = 100\n",
    "bins=100\n",
    "bins_mass = 1000\n",
    "pT_range = (0, 200)\n",
    "eta_range = (-2.5, 2.5)\n",
    "phi_range = (-np.pi, np.pi)\n",
    "mass_range_file1 = (110, 130)\n",
    "mass_gen_range_file1 = (124.95, 125.05)\n",
    "mass_range_file2 = (70, 110)\n",
    "mass_gen_range_file2 = (70,110)\n",
    "\n",
    "histograms = {}\n",
    "bin_edges = {}"
   ]
  },
  {
   "cell_type": "code",
   "execution_count": 20,
   "id": "fbb847d5",
   "metadata": {},
   "outputs": [],
   "source": [
    "data1 = apply_mass_cut_H_4l(data1)\n",
    "data2 = apply_mass_cut_Z_2l(data2, \"massZ\", mass_range_file2)"
   ]
  },
  {
   "cell_type": "code",
   "execution_count": 21,
   "id": "5e97b488",
   "metadata": {},
   "outputs": [],
   "source": [
    "#variables1 = [\"pT1\", \"pT2\", \"pT3\", \"pT4\", \"eta1\", \"eta2\", \"eta3\", \"eta4\", \"phi1\", \"phi2\", \"phi3\", \"phi4\", \"massH\", \"GENmass4l\"]\n",
    "variables1 = [\"pT1\", \"pT2\", \"eta1\", \"eta2\", \"phi1\", \"phi2\", \"massH\", \"GENmass4l\"]\n",
    "if(flag==\"Roch_corr\"):\n",
    "    variables2 = [\"pT1\", \"pT2\", \"eta1\", \"eta2\", \"phi1\", \"phi2\", \"massZ\"]\n",
    "elif(flag==\"noRoch_corr\"):\n",
    "    variables2 = [\"pT1_noRoch\", \"pT2_noRoch\", \"eta1_noRoch\", \"eta2_noRoch\", \"phi1_noRoch\", \"phi2_noRoch\", \"massZ_noRoch\"]\n",
    "scale_factors = [0,0.0003, 0.001, 0.003,0.01]\n",
    "scale_factor_strings = [\"0\", \"0.03\", \"0.1\", \"0.3\", \"1\"]"
   ]
  },
  {
   "cell_type": "code",
   "execution_count": 22,
   "id": "0099c916",
   "metadata": {},
   "outputs": [
    {
     "name": "stdout",
     "output_type": "stream",
     "text": [
      "pT1\n",
      "pT2\n",
      "eta1\n",
      "eta2\n",
      "phi1\n",
      "phi2\n",
      "massH\n",
      "GENmass4l\n"
     ]
    }
   ],
   "source": [
    "for i in range(len(variables1)): \n",
    "    print(variables1[i])"
   ]
  },
  {
   "cell_type": "code",
   "execution_count": 23,
   "id": "cb1434c8",
   "metadata": {},
   "outputs": [
    {
     "name": "stderr",
     "output_type": "stream",
     "text": [
      "Info in <TCanvas::Print>: pdf file output_plots_2l_noRoch/eta_greater_1/pT1_Z.pdf has been created\n",
      "Info in <TCanvas::Print>: pdf file output_plots_2l_noRoch/eta_greater_1/pT2_Z.pdf has been created\n",
      "Info in <TCanvas::Print>: pdf file output_plots_2l_noRoch/eta_greater_1/eta1_Z.pdf has been created\n",
      "Info in <TCanvas::Print>: pdf file output_plots_2l_noRoch/eta_greater_1/eta2_Z.pdf has been created\n",
      "Info in <TCanvas::Print>: pdf file output_plots_2l_noRoch/eta_greater_1/phi1_Z.pdf has been created\n",
      "Info in <TCanvas::Print>: pdf file output_plots_2l_noRoch/eta_greater_1/phi2_Z.pdf has been created\n",
      "Info in <TCanvas::Print>: pdf file output_plots_2l_noRoch/eta_greater_1/massZ_Z.pdf has been created\n",
      "Info in <TCanvas::Print>: pdf file output_plots_2l_noRoch/eta_greater_1/pT1_noRoch_Z.pdf has been created\n",
      "Info in <TCanvas::Print>: pdf file output_plots_2l_noRoch/eta_greater_1/pT2_noRoch_Z.pdf has been created\n",
      "Info in <TCanvas::Print>: pdf file output_plots_2l_noRoch/eta_greater_1/eta1_noRoch_Z.pdf has been created\n",
      "Info in <TCanvas::Print>: pdf file output_plots_2l_noRoch/eta_greater_1/eta2_noRoch_Z.pdf has been created\n",
      "Info in <TCanvas::Print>: pdf file output_plots_2l_noRoch/eta_greater_1/phi1_noRoch_Z.pdf has been created\n",
      "Info in <TCanvas::Print>: pdf file output_plots_2l_noRoch/eta_greater_1/phi2_noRoch_Z.pdf has been created\n",
      "Info in <TCanvas::Print>: pdf file output_plots_2l_noRoch/eta_greater_1/massZ_noRoch_Z.pdf has been created\n",
      "Info in <TCanvas::Print>: pdf file output_plots_2l_noRoch/eta_greater_1/GENmass2l_Z.pdf has been created\n"
     ]
    },
    {
     "data": {
      "image/png": "[encoded data removed]",
      "text/plain": [
       "<IPython.core.display.Image object>"
      ]
     },
     "metadata": {},
     "output_type": "display_data"
    },
    {
     "data": {
      "image/png": "[encoded data removed]",
      "text/plain": [
       "<IPython.core.display.Image object>"
      ]
     },
     "metadata": {},
     "output_type": "display_data"
    },
    {
     "data": {
      "image/png": "[encoded data removed]",
      "text/plain": [
       "<IPython.core.display.Image object>"
      ]
     },
     "metadata": {},
     "output_type": "display_data"
    },
    {
     "data": {
      "image/png": "[encoded data removed]",
      "text/plain": [
       "<IPython.core.display.Image object>"
      ]
     },
     "metadata": {},
     "output_type": "display_data"
    },
    {
     "data": {
      "image/png": "[encoded data removed]",
      "text/plain": [
       "<IPython.core.display.Image object>"
      ]
     },
     "metadata": {},
     "output_type": "display_data"
    },
    {
     "data": {
      "image/png": "[encoded data removed]",
      "text/plain": [
       "<IPython.core.display.Image object>"
      ]
     },
     "metadata": {},
     "output_type": "display_data"
    },
    {
     "data": {
      "image/png": "[encoded data removed]",
      "text/plain": [
       "<IPython.core.display.Image object>"
      ]
     },
     "metadata": {},
     "output_type": "display_data"
    },
    {
     "data": {
      "image/png": "[encoded data removed]",
      "text/plain": [
       "<IPython.core.display.Image object>"
      ]
     },
     "metadata": {},
     "output_type": "display_data"
    },
    {
     "data": {
      "image/png": "[encoded data removed]",
      "text/plain": [
       "<IPython.core.display.Image object>"
      ]
     },
     "metadata": {},
     "output_type": "display_data"
    },
    {
     "data": {
      "image/png": "[encoded data removed]",
      "text/plain": [
       "<IPython.core.display.Image object>"
      ]
     },
     "metadata": {},
     "output_type": "display_data"
    },
    {
     "data": {
      "image/png": "[encoded data removed]",
      "text/plain": [
       "<IPython.core.display.Image object>"
      ]
     },
     "metadata": {},
     "output_type": "display_data"
    },
    {
     "data": {
      "image/png": "[encoded data removed]",
      "text/plain": [
       "<IPython.core.display.Image object>"
      ]
     },
     "metadata": {},
     "output_type": "display_data"
    },
    {
     "data": {
      "image/png": "[encoded data removed]",
      "text/plain": [
       "<IPython.core.display.Image object>"
      ]
     },
     "metadata": {},
     "output_type": "display_data"
    },
    {
     "data": {
      "image/png": "[encoded data removed]",
      "text/plain": [
       "<IPython.core.display.Image object>"
      ]
     },
     "metadata": {},
     "output_type": "display_data"
    }
   ],
   "source": [
    "variables_new = [\"pT1\", \"pT2\", \"eta1\", \"eta2\", \"phi1\", \"phi2\", \"massZ\", \"pT1_noRoch\", \"pT2_noRoch\", \"eta1_noRoch\", \"eta2_noRoch\", \"phi1_noRoch\", \"phi2_noRoch\", \"massZ_noRoch\", \"GENmass2l\"]\n",
    "for var in variables_new :\n",
    "            if var == \"massZ\" or var == \"massZ_noRoch\" or var ==\"GENmass2l\":\n",
    "                var_range_file2 = mass_range_file2\n",
    "                bins = bins_mass\n",
    "            else:\n",
    "                bins = bins_normal\n",
    "                if \"pT\" in var:\n",
    "                    var_range_file2 = pT_range\n",
    "                elif \"eta\" in var:\n",
    "                    var_range_file2 = eta_range\n",
    "                elif \"phi\" in var:\n",
    "                    var_range_file2 = phi_range\n",
    "        \n",
    "            hist2, edges2 = np.histogram(data2[var], bins, var_range_file2)\n",
    "        \n",
    "            bin_edges[var] = (hist2, edges2)\n",
    "            th1d_hist2 = numpy_to_th1d(hist2, edges2, f\"{var}_Z\", \n",
    "                                          f\"{var} : Z \")\n",
    "            plot_hist_root_style(th1d_hist2, f\"{var}_Z.pdf\")\n",
    "            th1d_hist2.GetYaxis().SetTitle(\"Events\")\n",
    "            th1d_hist2.SetTitle(f\"{var} : Z\")"
   ]
  },
  {
   "cell_type": "code",
   "execution_count": 24,
   "id": "b5acb3fb",
   "metadata": {},
   "outputs": [
    {
     "name": "stderr",
     "output_type": "stream",
     "text": [
      "Info in <TCanvas::Print>: pdf file output_plots_2l_noRoch/eta_greater_1/scaled_massH_massH_0_scaled.pdf has been created\n",
      "Info in <TCanvas::Print>: pdf file output_plots_2l_noRoch/eta_greater_1/scaled_massH_massH_0.03_scaled.pdf has been created\n",
      "Info in <TCanvas::Print>: pdf file output_plots_2l_noRoch/eta_greater_1/scaled_massH_massH_0.1_scaled.pdf has been created\n",
      "Info in <TCanvas::Print>: pdf file output_plots_2l_noRoch/eta_greater_1/scaled_massH_massH_0.3_scaled.pdf has been created\n",
      "Info in <TCanvas::Print>: pdf file output_plots_2l_noRoch/eta_greater_1/scaled_massH_massH_1_scaled.pdf has been created\n"
     ]
    }
   ],
   "source": [
    "var1 = \"massH\"\n",
    "for scale_factor, scale_factor_string in zip(scale_factors, scale_factor_strings) : \n",
    "    scaled_massH1 = scale_pt_and_recalculate_mass_4l(data1, scale_factor)    \n",
    "    scaled_hist1, scaled_edges1 = np.histogram(scaled_massH1, bins, mass_range_file1)\n",
    "\n",
    "    plot_histogram(scaled_hist1, scaled_edges1, f\"{var1}_{scale_factor_string}_mass_Higgs_scaled.png\")\n",
    "    scaled_th1d_hist1 = numpy_to_th1d(scaled_hist1, scaled_edges1, f\"{var1}scaled_{scale_factor_string}per_Higgs\", \n",
    "                                          f\"reco m(4l) : Higgs without FSR : Smearing {scale_factor_string}% : {flag_str}\")\n",
    "    plot_hist_root_style(scaled_th1d_hist1, f\"scaled_massH_{var1}_{scale_factor_string}_scaled.pdf\")\n",
    "    \n",
    "    scaled_th1d_hist1.Write()\n"
   ]
  },
  {
   "cell_type": "code",
   "execution_count": 25,
   "id": "08eff4bb",
   "metadata": {},
   "outputs": [
    {
     "name": "stdout",
     "output_type": "stream",
     "text": [
      "scale factor 0\n",
      "scale factor 0.0003\n",
      "scale factor 0.001\n",
      "scale factor 0.003\n",
      "scale factor 0.01\n"
     ]
    },
    {
     "name": "stderr",
     "output_type": "stream",
     "text": [
      "Info in <TCanvas::Print>: pdf file output_plots_2l_noRoch/eta_greater_1/scaled_massZ_massZ_noRoch_0_scaled.pdf has been created\n",
      "Info in <TCanvas::Print>: pdf file output_plots_2l_noRoch/eta_greater_1/scaled_massZ_massZ_noRoch_0.03_scaled.pdf has been created\n",
      "Info in <TCanvas::Print>: pdf file output_plots_2l_noRoch/eta_greater_1/scaled_massZ_massZ_noRoch_0.1_scaled.pdf has been created\n",
      "Info in <TCanvas::Print>: pdf file output_plots_2l_noRoch/eta_greater_1/scaled_massZ_massZ_noRoch_0.3_scaled.pdf has been created\n",
      "Info in <TCanvas::Print>: pdf file output_plots_2l_noRoch/eta_greater_1/scaled_massZ_massZ_noRoch_1_scaled.pdf has been created\n"
     ]
    }
   ],
   "source": [
    "if(flag==\"Roch_corr\"):\n",
    "    var2 = \"massZ\"\n",
    "elif(flag==\"noRoch_corr\"):\n",
    "    var2 = \"massZ_noRoch\"\n",
    "for scale_factor, scale_factor_string in zip(scale_factors, scale_factor_strings) : \n",
    "    print(\"scale factor\", scale_factor)\n",
    "    if(flag==\"Roch_corr\"):\n",
    "        scaled_massH2 = scale_pt_and_recalculate_mass_2l_Roch(data2, scale_factor)\n",
    "    elif(flag==\"noRoch_corr\"):\n",
    "        scaled_massH2 = scale_pt_and_recalculate_mass_2l_noRoch(data2, scale_factor) \n",
    "    scaled_hist2, scaled_edges2 = np.histogram(scaled_massH2, bins, mass_range_file2)\n",
    "\n",
    "    plot_histogram(scaled_hist2, scaled_edges2, f\"{var2}_{scale_factor_string}_mass_Z_scaled.png\")\n",
    "    scaled_th1d_hist2 = numpy_to_th1d(scaled_hist2, scaled_edges2, f\"massHscaled_{scale_factor_string}per_Z\", \n",
    "                                          f\"reco m(2l) : Z without FSR : Smearing {scale_factor_string}% : {flag_str}\")\n",
    "    plot_hist_root_style(scaled_th1d_hist2, f\"scaled_massZ_{var2}_{scale_factor_string}_scaled.pdf\")\n",
    "    \n",
    "    scaled_th1d_hist2.Write()\n",
    "\n",
    "#scale_factor = 0 \n",
    "#scaled_massH2 = scale_pt_and_recalculate_mass(data1, scale_factor)    \n",
    "#scaled_hist2, scaled_edges2 = np.histogram(scaled_massH2, bins, mass_range_file1)\n",
    "#plot_histogram(scaled_hist2, scaled_edges2, f\"{var}_0_mass_Higgs_scaled.png\")\n",
    "#scaled_th1d_hist2 = numpy_to_th1d(scaled_hist2, scaled_edges2, f\"{var}scaled_0_Higgs\", \n",
    "#                                   f\"reco m(4l) : Higgs without FSR : Smearing 0%\")\n",
    "#plot_hist_root_style(scaled_th1d_hist2, f\"scaled_massH_{var}_0per_scaled.pdf\")"
   ]
  },
  {
   "cell_type": "code",
   "execution_count": null,
   "id": "97c93b7e",
   "metadata": {},
   "outputs": [],
   "source": []
  },
  {
   "cell_type": "code",
   "execution_count": 26,
   "id": "71aa550e",
   "metadata": {},
   "outputs": [
    {
     "name": "stderr",
     "output_type": "stream",
     "text": [
      "Info in <TCanvas::Print>: pdf file output_plots_2l_noRoch/eta_greater_1/reco_massH_1.pdf has been created\n",
      "Info in <TCanvas::Print>: pdf file output_plots_2l_noRoch/eta_greater_1/reco_massZ_1.pdf has been created\n",
      "Info in <TCanvas::Print>: pdf file output_plots_2l_noRoch/eta_greater_1/gen_massH_1.pdf has been created\n",
      "Info in <TCanvas::Print>: pdf file output_plots_2l_noRoch/eta_greater_1/gen_massZ_1.pdf has been created\n"
     ]
    }
   ],
   "source": [
    "ROOT.gStyle.SetOptStat(111112211)\n",
    "hist_mass1, edges_mass1 = create_histogram(data1[\"massH\"], bins, mass_range_file1)\n",
    "if(flag==\"Roch_corr\"):\n",
    "    hist_mass2, edges_mass2 = create_histogram(data2[\"massZ\"], bins, mass_range_file2)\n",
    "elif(flag==\"noRoch_corr\"):\n",
    "    hist_mass2, edges_mass2 = create_histogram(data2[\"massZ_noRoch\"], bins, mass_range_file2)\n",
    "\n",
    "mass_hist1, mass_edges1 = (hist_mass1, edges_mass1)\n",
    "mass_hist2, mass_edges2 =(hist_mass2, edges_mass2)\n",
    "    \n",
    "th1d_mass_hist1 = numpy_to_th1d(mass_hist1, mass_edges1, f\"reco_Higgs\", f\"reco m(4l) distribution : Higgs without FSR : {flag_str}\")\n",
    "th1d_mass_hist2 = numpy_to_th1d(mass_hist2, mass_edges2, f\"reco_Z\", f\"reco m(2l) distribution : Z without FSR : {flag_str}\")\n",
    "    \n",
    "th1d_mass_hist1.Write()\n",
    "th1d_mass_hist2.Write()\n",
    "\n",
    "hist_gen_mass1, edges_gen_mass1 = create_histogram(data1[\"GENmass4l\"], bins, mass_gen_range_file1)\n",
    "hist_gen_mass2, edges_gen_mass2 = create_histogram(data2[\"GENmass2l\"], bins, mass_range_file2)\n",
    "mass_gen_hist1, mass_gen_edges1 = hist_gen_mass1, edges_gen_mass1\n",
    "mass_gen_hist2, mass_gen_edges2 = hist_gen_mass2, edges_gen_mass2 \n",
    "    \n",
    "th1d_gen_mass_hist1 = numpy_to_th1d(mass_gen_hist1, mass_gen_edges1,\"GENmass4l_Higgs\", \"GEN m(4l) : Higgs with FSR \")\n",
    "th1d_gen_mass_hist2 = numpy_to_th1d(mass_gen_hist2, mass_gen_edges2, \"GENmass4l_Z\", \"GEN m(2l) : Z with FSR \")\n",
    "    \n",
    "th1d_gen_mass_hist1.Write()\n",
    "th1d_gen_mass_hist2.Write()\n",
    "\n",
    "#th1d_mass_hist1.SetTitle(f\"reco m(4l) distribution : Higgs without FSR\")\n",
    "th1d_mass_hist1.GetYaxis().SetTitle(\"Events\")\n",
    "th1d_mass_hist1.GetXaxis().SetTitle(\"m (GeV)\")\n",
    "#th1d_mass_hist2.SetTitle(f\"reco m(4l) distribution : Z without FSR\")\n",
    "th1d_mass_hist2.GetYaxis().SetTitle(\"Events\")\n",
    "\n",
    "th1d_mass_hist2.GetXaxis().SetTitle(\"m (GeV)\")\n",
    "\n",
    "#th1d_gen_mass_hist1.SetTitle(f\"GEN m(4l) distribution : Higgs with FSR\")\n",
    "th1d_gen_mass_hist1.GetYaxis().SetTitle(\"Events\")\n",
    "th1d_gen_mass_hist1.GetXaxis().SetTitle(\"m (GeV)\")\n",
    "#th1d_gen_mass_hist2.SetTitle(f\"GEN m(4l) distribution : Z with FSR\")\n",
    "th1d_gen_mass_hist2.GetYaxis().SetTitle(\"Events\")\n",
    "th1d_gen_mass_hist2.GetXaxis().SetTitle(\"m (GeV)\")\n",
    "\n",
    "plot_hist_root_style(th1d_mass_hist1, f\"reco_massH_{scale_factor_string}.pdf\")\n",
    "plot_hist_root_style(th1d_mass_hist2, f\"reco_massZ_{scale_factor_string}.pdf\")\n",
    "plot_hist_root_style(th1d_gen_mass_hist1, f\"gen_massH_{scale_factor_string}.pdf\")\n",
    "plot_hist_root_style(th1d_gen_mass_hist2, f\"gen_massZ_{scale_factor_string}.pdf\")"
   ]
  },
  {
   "cell_type": "code",
   "execution_count": 27,
   "id": "02070e0b",
   "metadata": {},
   "outputs": [],
   "source": [
    "def recalculate_gen_mass_4l(data):\n",
    "    gen_massH = []\n",
    "    for i in range(len(data[\"pT1_genFromReco\"])):\n",
    "        pT1, pT2, pT3, pT4 = data[\"pT1_genFromReco\"][i], data[\"pT2_genFromReco\"][i], data[\"pT3_genFromReco\"][i], data[\"pT4_genFromReco\"][i]\n",
    "        eta1, eta2, eta3, eta4 = data[\"genLep_eta1\"][i], data[\"genLep_eta2\"][i], data[\"genLep_eta3\"][i], data[\"genLep_eta4\"][i]\n",
    "        phi1, phi2, phi3, phi4 = data[\"genLep_phi1\"][i], data[\"genLep_phi2\"][i], data[\"genLep_phi3\"][i], data[\"genLep_phi4\"][i]\n",
    "        mass = reconstruct_m4l(pT1, pT2, pT3, pT4, eta1, eta2, eta3, eta4, phi1, phi2, phi3, phi4)\n",
    "        gen_massH.append(mass)\n",
    "         \n",
    "    mass_return = np.array(gen_massH)\n",
    "    return mass_return"
   ]
  },
  {
   "cell_type": "code",
   "execution_count": 28,
   "id": "f61f81b4",
   "metadata": {},
   "outputs": [
    {
     "data": {
      "text/plain": [
       "6534"
      ]
     },
     "execution_count": 28,
     "metadata": {},
     "output_type": "execute_result"
    },
    {
     "name": "stderr",
     "output_type": "stream",
     "text": [
      "Info in <TCanvas::Print>: pdf file output_plots_2l_noRoch/eta_greater_1/GENmass4l_Higgs_without_FSR.pdf has been created\n",
      "Info in <TCanvas::Print>: pdf file output_plots_2l_noRoch/eta_greater_1/GENmass4l_Z_without_FSR.pdf has been created\n"
     ]
    }
   ],
   "source": [
    "gen_massH = recalculate_gen_mass_4l(data1)  \n",
    "gen_massZ = np.array(data2[\"genzm\"])\n",
    "hist_1, edges_1 = np.histogram(gen_massH, bins, mass_gen_range_file1)\n",
    "hist_2, edges_2 = np.histogram(gen_massZ, bins, mass_gen_range_file2 )\n",
    "plot_histogram(hist_1, edges_1, f\"GENmass4l_withoutFSR_Higgs.png\")\n",
    "plot_histogram(hist_2, edges_2, f\"GENmass4l_withoutFSR_Z.png\")\n",
    "th1d_hist_1 = numpy_to_th1d(hist_1, edges_1, f\"GENmass4l_Higgs_without_FSR\", f\"GENmass4l without FSR : Higgs \")\n",
    "plot_hist_root_style(th1d_hist_1, f\"GENmass4l_Higgs_without_FSR.pdf\")\n",
    "th1d_hist_2 = numpy_to_th1d(hist_2, edges_2, f\"GENmass4l_Z_without_FSR\",f\"GENmass4l without FSR : Z \")\n",
    "plot_hist_root_style(th1d_hist_2, f\"GENmass4l_Z_without_FSR.pdf\")\n",
    "            \n",
    "th1d_hist_1.GetYaxis().SetTitle(\"Events\")\n",
    "th1d_hist_1.SetTitle(f\"GENmass4l without FSR : Higgs\")\n",
    "th1d_hist_2.GetYaxis().SetTitle(\"Events\")\n",
    "th1d_hist_2.SetTitle(f\"GENmass4l without FSR : Z\")\n",
    "th1d_hist_1.Write()\n",
    "th1d_hist_2.Write()"
   ]
  },
  {
   "cell_type": "code",
   "execution_count": 29,
   "id": "b9ebdad7",
   "metadata": {},
   "outputs": [],
   "source": [
    "output_file.Close()"
   ]
  },
  {
   "cell_type": "code",
   "execution_count": 30,
   "id": "c91b6547",
   "metadata": {},
   "outputs": [],
   "source": [
    "# Making the plot for pT, eta binning"
   ]
  },
  {
   "cell_type": "code",
   "execution_count": null,
   "id": "5b02e05d",
   "metadata": {},
   "outputs": [],
   "source": []
  },
  {
   "cell_type": "code",
   "execution_count": 31,
   "id": "d83eccdf",
   "metadata": {},
   "outputs": [],
   "source": [
    "def create_2d_histogram(data, x_var, y_var, x_bins, y_bins, x_range, y_range, title, output_path):\n",
    "    hist, x_edges, y_edges = np.histogram2d(data[x_var], data[y_var], bins=[x_bins, y_bins], range=[x_range, y_range])\n",
    "    plt.figure()\n",
    "    plt.imshow(hist.T, origin='lower', aspect='auto', extent=[x_edges[0], x_edges[-1], y_edges[0], y_edges[-1]])\n",
    "    plt.colorbar(label='Number of entries')\n",
    "    plt.xlabel(x_var)\n",
    "    plt.ylabel(y_var)\n",
    "    plt.title(title)\n",
    "    plt.savefig(output_path_dir+output_path)\n",
    "    plt.close()\n"
   ]
  },
  {
   "cell_type": "code",
   "execution_count": 32,
   "id": "5243246a",
   "metadata": {},
   "outputs": [],
   "source": [
    "branches = [\"pT1\", \"eta1\", \"pT2\", \"eta2\"]\n",
    "\n",
    "\n",
    "data2 = read_root_file(file2_path, branches)\n",
    "\n",
    "y_bins = 50\n",
    "x_bins = 50\n",
    "y_range = (-2.5, 2.5)\n",
    "x_range = (0, 200)\n",
    "\n",
    "variables = [(\"pT1\", \"eta1\"), (\"pT2\", \"eta2\")]\n",
    "\n",
    "for x_var, y_var in variables:\n",
    "    create_2d_histogram(data2, x_var, y_var, x_bins, y_bins, x_range, y_range,\n",
    "                            f\"{y_var} vs {x_var} : Z (2l)\", f\"{y_var}_vs_{x_var}_Z_2l.pdf\")\n"
   ]
  },
  {
   "cell_type": "code",
   "execution_count": null,
   "id": "c5f7b247",
   "metadata": {},
   "outputs": [],
   "source": []
  }
 ],
 "metadata": {
  "@webio": {
   "lastCommId": null,
   "lastKernelId": null
  },
  "kernelspec": {
   "display_name": "Python 3",
   "language": "python",
   "name": "python3"
  },
  "language_info": {
   "codemirror_mode": {
    "name": "ipython",
    "version": 3
   },
   "file_extension": ".py",
   "mimetype": "text/x-python",
   "name": "python",
   "nbconvert_exporter": "python",
   "pygments_lexer": "ipython3",
   "version": "3.9.12"
  }
 },
 "nbformat": 4,
 "nbformat_minor": 5
}
